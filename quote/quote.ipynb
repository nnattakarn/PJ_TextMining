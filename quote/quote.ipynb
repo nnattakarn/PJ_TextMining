{
  "nbformat": 4,
  "nbformat_minor": 0,
  "metadata": {
    "colab": {
      "name": "quote.ipynb",
      "provenance": [],
      "collapsed_sections": [],
      "toc_visible": true
    },
    "kernelspec": {
      "name": "python3",
      "display_name": "Python 3"
    }
  },
  "cells": [
    {
      "cell_type": "markdown",
      "metadata": {
        "id": "58eVm_m_rf9o"
      },
      "source": [
        "# Assignment 2: Text Scraping & Classification - quote\n",
        "\n",
        "สมาชิกกลุ่ม gogo:\n",
        "1. ณัฐกาญจน์ ชัยยศมานนท์ (61070288)\n",
        "2. เบญจพร เงินศรีตระกูล (61070305)\n",
        "\n",
        "***"
      ]
    },
    {
      "cell_type": "markdown",
      "metadata": {
        "id": "-Ti1JDCW4UpG"
      },
      "source": [
        "### Import Packages Etc."
      ]
    },
    {
      "cell_type": "code",
      "metadata": {
        "id": "y5GzoXJt4UpG"
      },
      "source": [
        "import requests\n",
        "import bs4\n",
        "import time\n",
        "\n",
        "import pandas as pd\n",
        "import numpy as np\n",
        "# from pandas import DataFrame"
      ],
      "execution_count": 16,
      "outputs": []
    },
    {
      "cell_type": "markdown",
      "metadata": {
        "id": "vz5cZswE4UpG"
      },
      "source": [
        "## Part 1: Data Collection"
      ]
    },
    {
      "cell_type": "markdown",
      "metadata": {
        "id": "g4lNbFR2sR_v"
      },
      "source": [
        "### เก็บ links quote ในแต่ละหน้า (ทั้งหมด 10 หน้า)"
      ]
    },
    {
      "cell_type": "code",
      "metadata": {
        "id": "Mfh9s5wVrUXs"
      },
      "source": [
        "#เก็บ quote กับ tag ในแต่ละหน้า (ทั้งหมด 10 หน้า)\n",
        "\n",
        "all_quote = []\n",
        "all_tag = []\n",
        "\n",
        "for page in range(1, 11):\n",
        "    response = requests.get(f'https://quotes.toscrape.com/page/{page}/')\n",
        "    html_page = bs4.BeautifulSoup(response.content)\n",
        "\n",
        "    selector = 'div.col-md-8 > div.quote > span.text'\n",
        "    tags = html_page.select(selector)\n",
        "    for tag in range(len(tags)):\n",
        "        all_quote.append(tags[tag].text[1:-1])\n",
        "\n",
        "    selector = 'div.col-md-8 > div.quote > div.tags > meta'\n",
        "    tags = html_page.select(selector)\n",
        "    for tag in tags:\n",
        "        tag = tag.get('content')\n",
        "        all_tag.append(tag)"
      ],
      "execution_count": 43,
      "outputs": []
    },
    {
      "cell_type": "code",
      "metadata": {
        "colab": {
          "base_uri": "https://localhost:8080/"
        },
        "id": "2VCWiRRECxOP",
        "outputId": "8fc68a9d-bccf-449a-f6ad-1c34f33ca08d"
      },
      "source": [
        "print('total quote :', len(all_quote))\n",
        "print(all_quote)\n",
        "print('total tag :', len(all_tag))\n",
        "print(all_tag)"
      ],
      "execution_count": 44,
      "outputs": [
        {
          "output_type": "stream",
          "text": [
            "total quote : 100\n",
            "['The world as we have created it is a process of our thinking. It cannot be changed without changing our thinking.', 'It is our choices, Harry, that show what we truly are, far more than our abilities.', 'There are only two ways to live your life. One is as though nothing is a miracle. The other is as though everything is a miracle.', 'The person, be it gentleman or lady, who has not pleasure in a good novel, must be intolerably stupid.', \"Imperfection is beauty, madness is genius and it's better to be absolutely ridiculous than absolutely boring.\", 'Try not to become a man of success. Rather become a man of value.', 'It is better to be hated for what you are than to be loved for what you are not.', \"I have not failed. I've just found 10,000 ways that won't work.\", \"A woman is like a tea bag; you never know how strong it is until it's in hot water.\", 'A day without sunshine is like, you know, night.', \"This life is what you make it. No matter what, you're going to mess up sometimes, it's a universal truth. But the good part is you get to decide how you're going to mess it up. Girls will be your friends - they'll act like it anyway. But just remember, some come, some go. The ones that stay with you through everything - they're your true best friends. Don't let go of them. Also remember, sisters make the best friends in the world. As for lovers, well, they'll come and go too. And baby, I hate to say it, most of them - actually pretty much all of them are going to break your heart, but you can't give up because if you give up, you'll never find your soulmate. You'll never find that half who makes you whole and that goes for everything. Just because you fail once, doesn't mean you're gonna fail at everything. Keep trying, hold on, and always, always, always believe in yourself, because if you don't, then who will, sweetie? So keep your head high, keep your chin up, and most importantly, keep smiling, because life's a beautiful thing and there's so much to smile about.\", 'It takes a great deal of bravery to stand up to our enemies, but just as much to stand up to our friends.', \"If you can't explain it to a six year old, you don't understand it yourself.\", \"You may not be her first, her last, or her only. She loved before she may love again. But if she loves you now, what else matters? She's not perfect—you aren't either, and the two of you may never be perfect together but if she can make you laugh, cause you to think twice, and admit to being human and making mistakes, hold onto her and give her the most you can. She may not be thinking about you every second of the day, but she will give you a part of her that she knows you can break—her heart. So don't hurt her, don't change her, don't analyze and don't expect more than she can give. Smile when she makes you happy, let her know when she makes you mad, and miss her when she's not there.\", 'I like nonsense, it wakes up the brain cells. Fantasy is a necessary ingredient in living.', 'I may not have gone where I intended to go, but I think I have ended up where I needed to be.', \"The opposite of love is not hate, it's indifference. The opposite of art is not ugliness, it's indifference. The opposite of faith is not heresy, it's indifference. And the opposite of life is not death, it's indifference.\", 'It is not a lack of love, but a lack of friendship that makes unhappy marriages.', 'Good friends, good books, and a sleepy conscience: this is the ideal life.', 'Life is what happens to us while we are making other plans.', 'I love you without knowing how, or when, or from where. I love you simply, without problems or pride: I love you in this way because I do not know any other way of loving but this, in which there is no I or you, so intimate that your hand upon my chest is my hand, so intimate that when I fall asleep your eyes close.', 'For every minute you are angry you lose sixty seconds of happiness.', 'If you judge people, you have no time to love them.', 'Anyone who thinks sitting in church can make you a Christian must also think that sitting in a garage can make you a car.', 'Beauty is in the eye of the beholder and it may be necessary from time to time to give a stupid or misinformed beholder a black eye.', 'Today you are You, that is truer than true. There is no one alive who is Youer than You.', 'If you want your children to be intelligent, read them fairy tales. If you want them to be more intelligent, read them more fairy tales.', 'It is impossible to live without failing at something, unless you live so cautiously that you might as well not have lived at all - in which case, you fail by default.', 'Logic will get you from A to Z; imagination will get you everywhere.', 'One good thing about music, when it hits you, you feel no pain.', \"The more that you read, the more things you will know. The more that you learn, the more places you'll go.\", 'Of course it is happening inside your head, Harry, but why on earth should that mean that it is not real?', 'The truth is, everyone is going to hurt you. You just got to find the ones worth suffering for.', 'Not all of us can do great things. But we can do small things with great love.', 'To the well-organized mind, death is but the next great adventure.', \"All you need is love. But a little chocolate now and then doesn't hurt.\", \"We read to know we're not alone.\", 'Any fool can know. The point is to understand.', 'I have always imagined that Paradise will be a kind of library.', 'It is never too late to be what you might have been.', 'A reader lives a thousand lives before he dies, said Jojen. The man who never reads lives only one.', 'You can never get a cup of tea large enough or a book long enough to suit me.', 'You believe lies so you eventually learn to trust no one but yourself.', 'If you can make a woman laugh, you can make her do anything.', 'Life is like riding a bicycle. To keep your balance, you must keep moving.', 'The real lover is the man who can thrill you by kissing your forehead or smiling into your eyes or just staring into space.', \"A wise girl kisses but doesn't love, listens but doesn't believe, and leaves before she is left.\", 'Only in the darkness can you see the stars.', 'It matters not what someone is born, but what they grow to be.', 'Love does not begin and end the way we seem to think it does. Love is a battle, love is a war; love is a growing up.', 'There is nothing I would not do for those who are really my friends. I have no notion of loving people by halves, it is not my nature.', 'Do one thing every day that scares you.', 'I am good, but not an angel. I do sin, but I am not the devil. I am just a small girl in a big world trying to find someone to love.', 'If I were not a physicist, I would probably be a musician. I often think in music. I live my daydreams in music. I see my life in terms of music.', 'If you only read the books that everyone else is reading, you can only think what everyone else is thinking.', 'The difference between genius and stupidity is: genius has its limits.', \"He's like a drug for you, Bella.\", 'There is no friend as loyal as a book.', 'When one door of happiness closes, another opens; but often we look so long at the closed door that we do not see the one which has been opened for us.', \"Life isn't about finding yourself. Life is about creating yourself.\", \"That's the problem with drinking, I thought, as I poured myself a drink. If something bad happens you drink in an attempt to forget; if something good happens you drink in order to celebrate; and if nothing happens you drink to make something happen.\", 'You don’t forget the face of the person who was your last hope.', \"Remember, we're madly in love, so it's all right to kiss me anytime you feel like it.\", 'To love at all is to be vulnerable. Love anything and your heart will be wrung and possibly broken. If you want to make sure of keeping it intact you must give it to no one, not even an animal. Wrap it carefully round with hobbies and little luxuries; avoid all entanglements. Lock it up safe in the casket or coffin of your selfishness. But in that casket, safe, dark, motionless, airless, it will change. It will not be broken; it will become unbreakable, impenetrable, irredeemable. To love is to be vulnerable.', 'Not all those who wander are lost.', 'Do not pity the dead, Harry. Pity the living, and, above all those who live without love.', 'There is nothing to writing. All you do is sit down at a typewriter and bleed.', 'Finish each day and be done with it. You have done what you could. Some blunders and absurdities no doubt crept in; forget them as soon as you can. Tomorrow is a new day. You shall begin it serenely and with too high a spirit to be encumbered with your old nonsense.', 'I have never let my schooling interfere with my education.', \"I have heard there are troubles of more than one kind. Some come from ahead and some come from behind. But I've bought a big bat. I'm all ready you see. Now my troubles are going to have troubles with me!\", 'If I had a flower for every time I thought of you...I could walk through my garden forever.', 'Some people never go crazy. What truly horrible lives they must lead.', 'The trouble with having an open mind, of course, is that people will insist on coming along and trying to put things in it.', 'Think left and think right and think low and think high. Oh, the thinks you can think up if only you try!', \"What really knocks me out is a book that, when you're all done reading it, you wish the author that wrote it was a terrific friend of yours and you could call him up on the phone whenever you felt like it. That doesn't happen much, though.\", 'The reason I talk to myself is because I’m the only one whose answers I accept.', \"You may say I'm a dreamer, but I'm not the only one. I hope someday you'll join us. And the world will live as one.\", 'I am free of all prejudice. I hate everyone equally. ', \"The question isn't who is going to let me; it's who is going to stop me.\", \"′Classic′ - a book which people praise and don't read.\", 'Anyone who has never made a mistake has never tried anything new.', \"A lady's imagination is very rapid; it jumps from admiration to love, from love to matrimony in a moment.\", 'Remember, if the time should come when you have to make a choice between what is right and what is easy, remember what happened to a boy who was good, and kind, and brave, because he strayed across the path of Lord Voldemort. Remember Cedric Diggory.', 'I declare after all there is no enjoyment like reading! How much sooner one tires of any thing than of a book! -- When I have a house of my own, I shall be miserable if I have not an excellent library.', 'There are few people whom I really love, and still fewer of whom I think well. The more I see of the world, the more am I dissatisfied with it; and every day confirms my belief of the inconsistency of all human characters, and of the little dependence that can be placed on the appearance of merit or sense.', 'Some day you will be old enough to start reading fairy tales again.', 'We are not necessarily doubting that God will do the best for us; we are wondering how painful the best will turn out to be.', 'The fear of death follows from the fear of life. A man who lives fully is prepared to die at any time.', 'A lie can travel half way around the world while the truth is putting on its shoes.', 'I believe in Christianity as I believe that the sun has risen: not only because I see it, but because by it I see everything else.', 'The truth.\" Dumbledore sighed. \"It is a beautiful and terrible thing, and should therefore be treated with great caution.', \"I'm the one that's got to die when it's time for me to die, so let me live my life the way I want to.\", 'To die will be an awfully big adventure.', 'It takes courage to grow up and become who you really are.', 'But better to get hurt by the truth than comforted with a lie.', 'You never really understand a person until you consider things from his point of view... Until you climb inside of his skin and walk around in it.', 'You have to write the book that wants to be written. And if the book will be too difficult for grown-ups, then you write it for children.', 'Never tell the truth to people who are not worthy of it.', \"A person's a person, no matter how small.\", '... a mind needs books as a sword needs a whetstone, if it is to keep its edge.']\n",
            "total tag : 100\n",
            "['change,deep-thoughts,thinking,world', 'abilities,choices', 'inspirational,life,live,miracle,miracles', 'aliteracy,books,classic,humor', 'be-yourself,inspirational', 'adulthood,success,value', 'life,love', 'edison,failure,inspirational,paraphrased', 'misattributed-eleanor-roosevelt', 'humor,obvious,simile', 'friends,heartbreak,inspirational,life,love,sisters', 'courage,friends', 'simplicity,understand', 'love', 'fantasy', 'life,navigation', 'activism,apathy,hate,indifference,inspirational,love,opposite,philosophy', 'friendship,lack-of-friendship,lack-of-love,love,marriage,unhappy-marriage', 'books,contentment,friends,friendship,life', 'fate,life,misattributed-john-lennon,planning,plans', 'love,poetry', 'happiness', 'attributed-no-source', 'humor,religion', 'humor', 'comedy,life,yourself', 'children,fairy-tales', '', 'imagination', 'music', 'learning,reading,seuss', 'dumbledore', 'friendship', 'misattributed-to-mother-teresa,paraphrased', 'death,inspirational', 'chocolate,food,humor', 'misattributed-to-c-s-lewis,reading', 'knowledge,learning,understanding,wisdom', 'books,library', 'inspirational', 'read,readers,reading,reading-books', 'books,inspirational,reading,tea', '', 'girls,love', 'life,simile', 'love', 'attributed-no-source', 'hope,inspirational', 'dumbledore', 'love', 'friendship,love', 'attributed,fear,inspiration', 'attributed-no-source', 'music', 'books,thought', 'misattributed-to-einstein', 'drug,romance,simile', 'books,friends,novelist-quotes', 'inspirational', 'inspirational,life,yourself', 'alcohol', 'the-hunger-games', 'humor', 'love', 'bilbo,journey,lost,quest,travel,wander', 'live-death-love', 'good,writing', 'life,regrets', 'education', 'troubles', 'friendship,love', 'humor', 'humor,open-mind,thinking', 'humor,philosophy', 'authors,books,literature,reading,writing', 'humor,insanity,lies,lying,self-indulgence,truth', 'beatles,connection,dreamers,dreaming,dreams,hope,inspirational,peace', 'humor,sinister', '', 'books,classic,reading', 'mistakes', 'humor,love,romantic,women', 'integrity', 'books,library,reading', 'elizabeth-bennet,jane-austen', 'age,fairytales,growing-up', 'god', 'death,life', 'misattributed-mark-twain,truth', 'christianity,faith,religion,sun', 'truth', 'death,life', 'adventure,love', 'courage', 'life', 'better-life-empathy', 'books,children,difficult,grown-ups,write,writers,writing', 'truth', 'inspirational', 'books,mind']\n"
          ],
          "name": "stdout"
        }
      ]
    },
    {
      "cell_type": "code",
      "metadata": {
        "id": "S6swKUDYt4Bn"
      },
      "source": [
        "# เก็บชื่อผู้แต่ง\n",
        "# selector = 'div.col-md-8 > div.quote > span > small.author'\n",
        "# tags = html_page.select(selector)\n",
        "# print(tags[0].text)"
      ],
      "execution_count": 39,
      "outputs": []
    },
    {
      "cell_type": "code",
      "metadata": {
        "id": "zX1bVob-5ehp"
      },
      "source": [
        "all_quote = '\\n'.join(all_quote)\n",
        "all_tag = '\\n'.join(all_tag)\n",
        "\n",
        "with open(\"AllQuote\", \"w\", encoding=\"utf-8\") as f:\n",
        "    f.write(all_quote)\n",
        "with open(\"tag.txt\", \"w\", encoding=\"utf-8\") as f:\n",
        "    f.write(all_tag)"
      ],
      "execution_count": 40,
      "outputs": []
    },
    {
      "cell_type": "code",
      "metadata": {
        "id": "wQFMGB2tD6O4"
      },
      "source": [
        ""
      ],
      "execution_count": null,
      "outputs": []
    }
  ]
}